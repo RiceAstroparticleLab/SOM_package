{
 "cells": [
  {
   "cell_type": "markdown",
   "id": "1626f12b",
   "metadata": {},
   "source": [
    "## Using Kohonen SOM\n",
    "\n",
    "This notebook will take us through a quick introduction in using this SOM_package. In particulare we will be using the Kohonen Self-Organizing map. For a description of how this kind of SOM works you might want to look at the following resource:\n",
    " - https://builtin.com/articles/self-organizing-maps"
   ]
  },
  {
   "cell_type": "code",
   "execution_count": 2,
   "id": "55e8244e",
   "metadata": {},
   "outputs": [
    {
     "ename": "ModuleNotFoundError",
     "evalue": "No module named 'sciSOM'",
     "output_type": "error",
     "traceback": [
      "\u001b[0;31m---------------------------------------------------------------------------\u001b[0m",
      "\u001b[0;31mModuleNotFoundError\u001b[0m                       Traceback (most recent call last)",
      "\u001b[0;32m/var/folders/6r/sxwcktyn0rz63rdp5d1f4xlr0000gn/T/ipykernel_39920/3671669328.py\u001b[0m in \u001b[0;36m<module>\u001b[0;34m\u001b[0m\n\u001b[0;32m----> 1\u001b[0;31m \u001b[0;32mfrom\u001b[0m \u001b[0msciSOM\u001b[0m \u001b[0;32mimport\u001b[0m \u001b[0msciSOM\u001b[0m\u001b[0;34m\u001b[0m\u001b[0;34m\u001b[0m\u001b[0m\n\u001b[0m",
      "\u001b[0;31mModuleNotFoundError\u001b[0m: No module named 'sciSOM'"
     ]
    }
   ],
   "source": [
    "from sciSOM import sciSOM"
   ]
  },
  {
   "cell_type": "code",
   "execution_count": null,
   "id": "0a8cec72",
   "metadata": {},
   "outputs": [],
   "source": []
  }
 ],
 "metadata": {
  "kernelspec": {
   "display_name": "Python 3 (ipykernel)",
   "language": "python",
   "name": "python3"
  },
  "language_info": {
   "codemirror_mode": {
    "name": "ipython",
    "version": 3
   },
   "file_extension": ".py",
   "mimetype": "text/x-python",
   "name": "python",
   "nbconvert_exporter": "python",
   "pygments_lexer": "ipython3",
   "version": "3.9.7"
  }
 },
 "nbformat": 4,
 "nbformat_minor": 5
}
